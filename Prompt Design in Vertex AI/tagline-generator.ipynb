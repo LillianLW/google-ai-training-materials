{
 "cells": [
  {
   "cell_type": "code",
   "execution_count": 2,
   "id": "b8ee92f3-a0e6-42ee-8049-0d9f31e8b42a",
   "metadata": {
    "tags": []
   },
   "outputs": [
    {
     "name": "stdout",
     "output_type": "stream",
     "text": [
      "##\n",
      " Taglines for Cymbal Direct's Outdoor Gear Line:\n",
      "\n",
      "**General Taglines:**\n",
      "\n",
      "\n",
      "* **Embrace the Wild. Gear Up with Cymbal Direct.**\n",
      "* **\n",
      "Adventure Awaits. Let's Go.**\n",
      "* **Built for Exploration. Made for You.**\n",
      "* **Unleash Your Inner Explorer.**\n",
      "* **\n",
      "Cymbal Direct: Your Partner in Outdoor Adventure.**\n",
      "\n",
      "**Taglines with Keyword \"Nature\":**\n",
      "\n",
      "* **Connect with Nature. Explore with Cymbal Direct\n",
      ".**\n",
      "* **Find Your Nature. Gear Up with Cymbal Direct.**\n",
      "* **Nature Awaits. Let Cymbal Direct Guide You.**\n",
      "* **Embrace the Elements. Conquer the Outdoors with Cymbal Direct.**\n",
      "* **Cymbal Direct:\n",
      " Equipping You for Nature's Adventures.**\n",
      "\n",
      "**Taglines for Specific Products:**\n",
      "\n",
      "**Durable Backpack:**\n",
      "\n",
      "* **Built for the Journey: Your Adventure Essentials.**\n",
      "* **Carry More, Worry Less. The Backpack Built for Exploration.**\n",
      "*\n",
      " **Adventure-Ready. Your Durable Companion for the Trail.**\n",
      "* **Minimalist Design, Maximum Performance. The Backpack for Every Explorer.**\n",
      "\n",
      "**Other Products:**\n",
      "\n",
      "* **Tents:** Sleep Under the Stars. Comfort and Protection for Your Outdoor Adventures.\n",
      "* **Hiking Boots:** Conquer Every Trail. Durable and\n",
      " Supportive Footwear for the Journey.\n",
      "* **Camping Gear:** Make Memories Around the Campfire. Gear Up for Comfort and Convenience.\n",
      "* **Apparel:** Dress for the Adventure. Functional and Stylish Clothing for the Outdoors.\n",
      "\n",
      "**Taglines with a Playful Tone:**\n",
      "\n",
      "* **Get Outside and Play. Cymbal\n",
      " Direct Has You Covered.**\n",
      "* **Adventure is Calling. Answer with Cymbal Direct.**\n",
      "* **Leave the Couch, Embrace the Wild. Gear Up with Cymbal Direct.**\n",
      "* **Cymbal Direct: Making Outdoor Fun Accessible for Everyone.**\n",
      "* **Let's Get Dirty. Cymbal Direct: Your Partner in\n",
      " Outdoor Exploration.**\n",
      "\n",
      "**Taglines with a Focus on Youth:**\n",
      "\n",
      "* **Explore the World. Cymbal Direct: Gear for Young Adventurers.**\n",
      "* **Adventure Starts Now. Get Geared Up with Cymbal Direct.**\n",
      "* **Make Memories that Last. Cymbal Direct: Your Outdoor Companion.**\n",
      "*\n",
      " **Unleash Your Curiosity. Explore with Cymbal Direct.**\n",
      "* **The World is Your Playground. Get Outside with Cymbal Direct.**\n",
      "\n",
      "**Remember, the best tagline will be catchy, memorable, and relevant to Cymbal Direct's target audience and brand values.**\n",
      "\n"
     ]
    }
   ],
   "source": [
    "from vertexai.preview.generative_models import GenerativeModel\n",
    "\n",
    "model = GenerativeModel(\"gemini-1.0-pro\")\n",
    "\n",
    "prompt = \"\"\"\n",
    "Cymbal Direct is partnering with an outdoor gear retailer. They\\'re launching a new line of products designed to encourage young people to explore the outdoors. Help them create catchy taglines for this product line.\n",
    "\n",
    "input: Write a tagline for a durable backpack designed for hikers that makes them feel prepared. Consider styles like minimalist.\n",
    "output:  makes them feel prepared. Consider styles like minimalist.\tBuilt for the Journey: Your Adventure Essentials.\n",
    "\n",
    "\n",
    "input: specifically request that the tagline includes the keyword nature\n",
    "output:\n",
    "\"\"\"\n",
    "\n",
    "responses = model.generate_content(\n",
    "    prompt,\n",
    "    generation_config={\n",
    "        \"temperature\": 0.5,\n",
    "        \"max_output_tokens\": 2048,\n",
    "        \"top_p\": 1.0,\n",
    "        \"top_k\": 40,\n",
    "    },\n",
    "    stream=True\n",
    "    )\n",
    "\n",
    "for response in responses:\n",
    "    print(response.text)"
   ]
  },
  {
   "cell_type": "code",
   "execution_count": null,
   "id": "72cd75bc-b526-48b4-9b90-5d4fd5dea0cb",
   "metadata": {},
   "outputs": [],
   "source": []
  }
 ],
 "metadata": {
  "environment": {
   "kernel": "conda-base-py",
   "name": "tf2-cpu.2-16.m123",
   "type": "gcloud",
   "uri": "us-docker.pkg.dev/deeplearning-platform-release/gcr.io/tf2-cpu.2-16:m123"
  },
  "kernelspec": {
   "display_name": "Python [conda env:base] * (Local)",
   "language": "python",
   "name": "conda-base-py"
  },
  "language_info": {
   "codemirror_mode": {
    "name": "ipython",
    "version": 3
   },
   "file_extension": ".py",
   "mimetype": "text/x-python",
   "name": "python",
   "nbconvert_exporter": "python",
   "pygments_lexer": "ipython3",
   "version": "3.10.14"
  }
 },
 "nbformat": 4,
 "nbformat_minor": 5
}
